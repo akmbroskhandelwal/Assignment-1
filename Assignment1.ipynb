{
 "cells": [
  {
   "cell_type": "markdown",
   "id": "7d148bbb-fdab-4ca3-9067-543e39ec9ccf",
   "metadata": {},
   "source": [
    "Q1.Explain with an example each when to use a for and while loop."
   ]
  },
  {
   "cell_type": "markdown",
   "id": "6f5afc79-81fe-46a9-a2a6-78f1fa2d764c",
   "metadata": {},
   "source": [
    "for : the for loop is used to iterate over a sequence,which could be a list,tuple,array and string.\n",
    "for example \n",
    "digit = [1,2,3]\n",
    "for i in digit :\n",
    "    print(i)\n",
    "else :\n",
    "    print(\"no items left\")"
   ]
  },
  {
   "cell_type": "markdown",
   "id": "8ebdfb7c-4d8b-460f-8e97-bc2e6815c919",
   "metadata": {},
   "source": [
    "while : python while loop is used to execute a block of statements repeatedly until a givem condition is satisfied.\n",
    "the while loop check the condition first,and if it returns a true,the code with it in runs.the loop will continue until the condition is provided returns false,then stops\n",
    ".for example\n",
    "when i =1, the test expression i <= 5 is true.hence,the body of thewhile loop is executed.this prints one on the screen and the value of i is increased to 2.now, i =2  the test expression now i <= 5 is again true."
   ]
  },
  {
   "cell_type": "markdown",
   "id": "2ef8e7d4-e920-4cf7-8d3e-efd46f10b3be",
   "metadata": {},
   "source": [
    "Q2.write a python program to print a sum and product of the first 10 natural number using for and while loop."
   ]
  },
  {
   "cell_type": "code",
   "execution_count": 4,
   "id": "994b9980-b5b0-4e5b-a1e4-838fab8e1f36",
   "metadata": {},
   "outputs": [],
   "source": [
    "l = list(range(1,11,1))\n"
   ]
  },
  {
   "cell_type": "code",
   "execution_count": 6,
   "id": "1a7796b4-f15f-4b2b-9e5b-8fbbe4b8687d",
   "metadata": {},
   "outputs": [
    {
     "data": {
      "text/plain": [
       "[1, 2, 3, 4, 5, 6, 7, 8, 9, 10]"
      ]
     },
     "execution_count": 6,
     "metadata": {},
     "output_type": "execute_result"
    }
   ],
   "source": [
    "l"
   ]
  },
  {
   "cell_type": "code",
   "execution_count": 7,
   "id": "419327d4-74eb-439b-a961-8a8e2fb15355",
   "metadata": {},
   "outputs": [
    {
     "data": {
      "text/plain": [
       "55"
      ]
     },
     "execution_count": 7,
     "metadata": {},
     "output_type": "execute_result"
    }
   ],
   "source": [
    "result = 0\n",
    "for i in l :\n",
    "    result = result + i\n",
    "    \n",
    "result    "
   ]
  },
  {
   "cell_type": "code",
   "execution_count": 9,
   "id": "92c3abae-5190-49e7-8f11-e876a8ceac6e",
   "metadata": {},
   "outputs": [
    {
     "data": {
      "text/plain": [
       "3628800"
      ]
     },
     "execution_count": 9,
     "metadata": {},
     "output_type": "execute_result"
    }
   ],
   "source": [
    "result=1\n",
    "for i in l :\n",
    "    result = result * i\n",
    "    \n",
    "result    "
   ]
  },
  {
   "cell_type": "code",
   "execution_count": 1,
   "id": "cb375a32-d12c-4604-a463-7777d34ed862",
   "metadata": {},
   "outputs": [
    {
     "name": "stdin",
     "output_type": "stream",
     "text": [
      "enter a natural number 10\n"
     ]
    },
    {
     "data": {
      "text/plain": [
       "55"
      ]
     },
     "execution_count": 1,
     "metadata": {},
     "output_type": "execute_result"
    }
   ],
   "source": [
    "number = int(input(\"enter a natural number\"))\n",
    "startingPoint = 0\n",
    "counter = 1\n",
    "while counter <= number :\n",
    "    startingPoint = startingPoint + counter \n",
    "    counter = counter + 1 \n",
    "startingPoint    "
   ]
  },
  {
   "cell_type": "code",
   "execution_count": 2,
   "id": "edaf37a0-249a-4cef-974b-c5bc79f42603",
   "metadata": {},
   "outputs": [
    {
     "name": "stdin",
     "output_type": "stream",
     "text": [
      "enter a number 10\n"
     ]
    },
    {
     "data": {
      "text/plain": [
       "3628800"
      ]
     },
     "execution_count": 2,
     "metadata": {},
     "output_type": "execute_result"
    }
   ],
   "source": [
    "number = int(input(\"enter a number\"))\n",
    "factorial = 1\n",
    "while number > 0 :\n",
    "    factorial = factorial * number \n",
    "    number = number - 1 \n",
    "factorial   \n"
   ]
  },
  {
   "cell_type": "markdown",
   "id": "3b527186-3a8f-4d4a-b368-796007ca54eb",
   "metadata": {},
   "source": [
    " Q3.CREATE A PYTHON  PROGRAM TO COMPUTE THE ELECTRICITY BILL FOR A HOUSEHOLD.\n",
    " "
   ]
  },
  {
   "cell_type": "code",
   "execution_count": 4,
   "id": "78af243e-8112-418f-9a91-5a113964798d",
   "metadata": {},
   "outputs": [
    {
     "name": "stdin",
     "output_type": "stream",
     "text": [
      "enter your marks 310\n"
     ]
    },
    {
     "name": "stdout",
     "output_type": "stream",
     "text": [
      "2250.0\n"
     ]
    }
   ],
   "source": [
    "unit = int(input(\"enter your marks\"))\n",
    "if unit <= 100 :\n",
    "           print( unit * 4.5 )\n",
    "elif unit <= 200 and unit > 100 :\n",
    "           print(100*4.5 + (unit-100) * 6 )\n",
    "elif unit <= 300 and unit > 200 :\n",
    "           print(100*4.5 + 100*6 + (unit-200) * 10 )\n",
    "else :\n",
    "           print(100*4.5 + 100*6 + 100*10 + (unit-300) * 20 )\n",
    "        \n",
    "        \n",
    "        \n",
    "        \n",
    "        \n",
    "        "
   ]
  },
  {
   "cell_type": "code",
   "execution_count": null,
   "id": "6338eece-b9be-4c4a-a9e1-c47e39a5cf45",
   "metadata": {},
   "outputs": [],
   "source": []
  },
  {
   "cell_type": "markdown",
   "id": "50d8f115-d299-4e83-adf1-51fbac42beff",
   "metadata": {},
   "source": [
    "Q4.Create a list of number from  1 to 100.Use for loop and while loop to calculate the each cube of number and if the cube of that number is divisible by 4 or 5 then append that number in list and print that list.\n"
   ]
  },
  {
   "cell_type": "code",
   "execution_count": null,
   "id": "42464512-f3c7-4b25-a9c5-1b49908e4d03",
   "metadata": {},
   "outputs": [],
   "source": [
    "l = list(range(1,101,1))\n"
   ]
  },
  {
   "cell_type": "code",
   "execution_count": 44,
   "id": "9ea36d72-8cea-41ea-9345-05d62ce5b305",
   "metadata": {},
   "outputs": [
    {
     "name": "stdout",
     "output_type": "stream",
     "text": [
      "8\n",
      "64\n",
      "125\n",
      "216\n",
      "512\n",
      "1000\n",
      "1728\n",
      "2744\n",
      "3375\n",
      "4096\n",
      "5832\n",
      "8000\n",
      "10648\n",
      "13824\n",
      "15625\n",
      "17576\n",
      "21952\n",
      "27000\n",
      "32768\n",
      "39304\n",
      "42875\n",
      "46656\n",
      "54872\n",
      "64000\n",
      "74088\n",
      "85184\n",
      "91125\n",
      "97336\n",
      "110592\n",
      "125000\n",
      "140608\n",
      "157464\n",
      "166375\n",
      "175616\n",
      "195112\n",
      "216000\n",
      "238328\n",
      "262144\n",
      "274625\n",
      "287496\n",
      "314432\n",
      "343000\n",
      "373248\n",
      "405224\n",
      "421875\n",
      "438976\n",
      "474552\n",
      "512000\n",
      "551368\n",
      "592704\n",
      "614125\n",
      "636056\n",
      "681472\n",
      "729000\n",
      "778688\n",
      "830584\n",
      "857375\n",
      "884736\n",
      "941192\n",
      "1000000\n"
     ]
    }
   ],
   "source": [
    "l1 = []\n",
    "for i in l :\n",
    "    \n",
    "    a = i*i*i\n",
    "    if a % 4 ==0 or a % 5 == 0 :\n",
    "        print(a)\n",
    "        l1.append(a)\n",
    "    \n",
    "    "
   ]
  },
  {
   "cell_type": "markdown",
   "id": "5b65ffc0-e99a-463a-bb26-599fcbc99aff",
   "metadata": {},
   "source": [
    "Q5.Write a program to filter count vowels in the below given string.\n",
    "string = \"i want to become a data scientist\"."
   ]
  },
  {
   "cell_type": "code",
   "execution_count": 6,
   "id": "8da4c320-2a83-44d3-bc90-c7d548c14fa0",
   "metadata": {},
   "outputs": [
    {
     "name": "stdout",
     "output_type": "stream",
     "text": [
      "12\n"
     ]
    }
   ],
   "source": [
    "string = \"i want to become a data scientist\"\n",
    "for i in string :\n",
    "    \n",
    "    \n",
    "    A = string.count('a') \n",
    "    B = string.count('e') \n",
    "    C = string.count('i') \n",
    "    D = string.count('o') \n",
    "    E = string.count('u')\n",
    "    break\n",
    "    \n",
    "print(A+B+C+D+E)    \n",
    "    "
   ]
  },
  {
   "cell_type": "code",
   "execution_count": null,
   "id": "7d239a3a-22f0-4d0b-945e-8c651d640dd4",
   "metadata": {},
   "outputs": [],
   "source": []
  },
  {
   "cell_type": "code",
   "execution_count": null,
   "id": "900a264e-b0c4-4e54-b9f1-36505fb080d9",
   "metadata": {},
   "outputs": [],
   "source": []
  },
  {
   "cell_type": "code",
   "execution_count": null,
   "id": "9f68d7e5-fc0c-4b13-8ea3-3b2d48b89ec1",
   "metadata": {},
   "outputs": [],
   "source": []
  },
  {
   "cell_type": "code",
   "execution_count": null,
   "id": "f786f514-7d77-4525-a602-e910110a9ba9",
   "metadata": {},
   "outputs": [],
   "source": []
  },
  {
   "cell_type": "code",
   "execution_count": null,
   "id": "82c50c62-e602-4a98-8420-f592368e8e48",
   "metadata": {},
   "outputs": [],
   "source": []
  }
 ],
 "metadata": {
  "kernelspec": {
   "display_name": "Python 3 (ipykernel)",
   "language": "python",
   "name": "python3"
  },
  "language_info": {
   "codemirror_mode": {
    "name": "ipython",
    "version": 3
   },
   "file_extension": ".py",
   "mimetype": "text/x-python",
   "name": "python",
   "nbconvert_exporter": "python",
   "pygments_lexer": "ipython3",
   "version": "3.10.8"
  }
 },
 "nbformat": 4,
 "nbformat_minor": 5
}
